{
 "cells": [
  {
   "cell_type": "markdown",
   "metadata": {},
   "source": [
    "# Connect to Databricks via PySpark"
   ]
  },
  {
   "cell_type": "code",
   "execution_count": null,
   "metadata": {},
   "outputs": [],
   "source": [
    "from pyspark.sql import SparkSession\n",
    "from databricks.sdk.core import Config\n",
    "from pyspark.sql.types import *\n",
    "import pyspark.pandas as ps\n",
    "import pandas as pd\n",
    "import plotly.express as px\n",
    "import nbformat\n",
    "\n",
    "config = Config(\n",
    "    profile=\"workbench\",\n",
    "    # add you cluster ID here\n",
    "    cluster_id=\"0606-201802-s75pygqn\",\n",
    "    )\n",
    "\n",
    "spark = SparkSession.builder.config(config).getOrCreate()"
   ]
  },
  {
   "cell_type": "markdown",
   "metadata": {},
   "source": [
    "# Query Some Protected Data:"
   ]
  },
  {
   "cell_type": "code",
   "execution_count": null,
   "metadata": {},
   "outputs": [],
   "source": [
    "query = \"\"\"\n",
    "        SELECT\n",
    "            `member_id`,\n",
    "            `zip_code`,\n",
    "            `sub_grade`,\n",
    "            `loan_amnt`,\n",
    "            `term`,\n",
    "            `int_rate`,\n",
    "            `emp_title`,\n",
    "            `emp_length`,\n",
    "            `annual_inc`,\n",
    "            `loan_status`,\n",
    "            `title`,\n",
    "            `out_prncp`\n",
    "        FROM `sol_eng_demo_nickp`.`default`.`lending_club`\n",
    "        WHERE\n",
    "            `zip_code` = '996xx'\n",
    "        ORDER BY sub_grade\n",
    "    \"\"\"\n",
    "\n",
    "df = spark.sql(query)\n",
    "df\n"
   ]
  }
 ],
 "metadata": {
  "kernelspec": {
   "display_name": "Python 3 (ipykernel)",
   "language": "python",
   "name": "python3"
  },
  "language_info": {
   "codemirror_mode": {
    "name": "ipython",
    "version": 3
   },
   "file_extension": ".py",
   "mimetype": "text/x-python",
   "name": "python",
   "nbconvert_exporter": "python",
   "pygments_lexer": "ipython3",
   "version": "3.11.9"
  }
 },
 "nbformat": 4,
 "nbformat_minor": 4
}

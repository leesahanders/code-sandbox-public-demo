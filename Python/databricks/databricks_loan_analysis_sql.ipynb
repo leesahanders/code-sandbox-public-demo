{
 "cells": [
  {
   "cell_type": "markdown",
   "metadata": {},
   "source": [
    "# Connect to Databricks via the Databricks SQL Connector"
   ]
  },
  {
   "cell_type": "code",
   "execution_count": null,
   "metadata": {},
   "outputs": [],
   "source": [
    "import os\n",
    "from configparser import ConfigParser\n",
    "from databricks import sql\n",
    "import pandas as pd\n",
    "from dotenv import load_dotenv\n",
    "\n",
    "load_dotenv()\n",
    "databricks_config = ConfigParser()\n",
    "databricks_config.read(os.getenv(\"DATABRICKS_CONFIG_FILE\"))\n",
    "\n",
    "wb_profile = databricks_config[\"workbench\"]\n",
    "\n",
    "connection = sql.connect(\n",
    "  server_hostname=wb_profile[\"host\"],\n",
    "  http_path=os.environ.get(\"DATABRICKS_PATH\"),\n",
    "  access_token=wb_profile[\"token\"]\n",
    ")"
   ]
  },
  {
   "cell_type": "markdown",
   "metadata": {},
   "source": [
    "# Query Some Protected Data:"
   ]
  },
  {
   "cell_type": "code",
   "execution_count": null,
   "metadata": {},
   "outputs": [],
   "source": [
    "query = \"\"\"\n",
    "        SELECT\n",
    "            `member_id`,\n",
    "            `zip_code`,\n",
    "            `sub_grade`,\n",
    "            `loan_amnt`,\n",
    "            `term`,\n",
    "            `int_rate`,\n",
    "            `emp_title`,\n",
    "            `emp_length`,\n",
    "            `annual_inc`,\n",
    "            `loan_status`,\n",
    "            `title`,\n",
    "            `out_prncp`\n",
    "        FROM `sol_eng_demo_nickp`.`default`.`lending_club`\n",
    "        WHERE\n",
    "            `zip_code` = '996xx'\n",
    "        ORDER BY sub_grade\n",
    "    \"\"\"\n",
    "\n",
    "df = pd.read_sql(\n",
    "    query,\n",
    "    connection\n",
    ")\n",
    "df"
   ]
  }
 ],
 "metadata": {
  "kernelspec": {
   "display_name": ".venv",
   "language": "python",
   "name": "python3"
  },
  "language_info": {
   "codemirror_mode": {
    "name": "ipython",
    "version": 3
   },
   "file_extension": ".py",
   "mimetype": "text/x-python",
   "name": "python",
   "nbconvert_exporter": "python",
   "pygments_lexer": "ipython3",
   "version": "3.11.9"
  }
 },
 "nbformat": 4,
 "nbformat_minor": 2
}
